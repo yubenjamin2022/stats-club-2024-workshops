{
  "nbformat": 4,
  "nbformat_minor": 0,
  "metadata": {
    "colab": {
      "provenance": []
    },
    "kernelspec": {
      "name": "python3",
      "display_name": "Python 3"
    },
    "language_info": {
      "name": "python"
    }
  },
  "cells": [
    {
      "cell_type": "markdown",
      "source": [
        "\n",
        "# Introduction to Python Workshop Fall 24\n",
        "\n",
        "#### UCLA Statistics Club 2024\n",
        "\n",
        "\n",
        "Python is a fairly beginner-friendly programming language with many applications, from AI/ML to Data Science. It is an important programming language to know for anyone interested to enter the field of Stats/Data Science. Our hope with this workshop is  to give you a basic introduction to Python so you can have a basic grasp of it as you continue to learn.\n"
      ],
      "metadata": {
        "id": "WJ7lewMyh7iL"
      }
    },
    {
      "cell_type": "markdown",
      "source": [
        "## Data Types\n",
        "\n",
        "\n",
        "---\n",
        "\n",
        "\n",
        "\n",
        "There are many different types of data types in base Python. Depending on what packages you import, you could include more. Four of the most commonly used ones, and the ones that'll be covered here are:\n",
        "\n",
        "\n",
        "1.   `integer` (int): non-decimal real numbers\n",
        "2.   `float` real numbers values with decimals\n",
        "3.   `boolean` (bool): True & False\n",
        "4.   `string` (str): any text data"
      ],
      "metadata": {
        "id": "Yg_YjnHDLQrO"
      }
    },
    {
      "cell_type": "code",
      "source": [
        "print(2)\n",
        "print(type(2))"
      ],
      "metadata": {
        "colab": {
          "base_uri": "https://localhost:8080/"
        },
        "id": "KGR99m0HjmFN",
        "outputId": "730015a0-67e5-4fb3-e916-2985f03ce8ab"
      },
      "execution_count": 1,
      "outputs": [
        {
          "output_type": "stream",
          "name": "stdout",
          "text": [
            "2\n",
            "<class 'int'>\n"
          ]
        }
      ]
    },
    {
      "cell_type": "code",
      "source": [
        "print(2.0)\n",
        "print(type(2.0))"
      ],
      "metadata": {
        "id": "P9v5oBTFKcTl",
        "colab": {
          "base_uri": "https://localhost:8080/"
        },
        "outputId": "80362cd9-5c33-47bb-cac8-21fb5bac5dbb"
      },
      "execution_count": 2,
      "outputs": [
        {
          "output_type": "stream",
          "name": "stdout",
          "text": [
            "2.0\n",
            "<class 'float'>\n"
          ]
        }
      ]
    },
    {
      "cell_type": "code",
      "source": [
        "print(True)\n",
        "print(type(True))"
      ],
      "metadata": {
        "colab": {
          "base_uri": "https://localhost:8080/"
        },
        "id": "PuTddFdyzh6y",
        "outputId": "edca30d9-8c5f-42e4-eee6-90d3cc422ae4"
      },
      "execution_count": 3,
      "outputs": [
        {
          "output_type": "stream",
          "name": "stdout",
          "text": [
            "True\n",
            "<class 'bool'>\n"
          ]
        }
      ]
    },
    {
      "cell_type": "code",
      "source": [
        "print('apple')\n",
        "print(type('apple'))"
      ],
      "metadata": {
        "id": "-hsAzuxGLRwK",
        "colab": {
          "base_uri": "https://localhost:8080/"
        },
        "outputId": "116f0d72-bbad-48a0-c9e6-5f437a0a267a"
      },
      "execution_count": 4,
      "outputs": [
        {
          "output_type": "stream",
          "name": "stdout",
          "text": [
            "apple\n",
            "<class 'str'>\n"
          ]
        }
      ]
    },
    {
      "cell_type": "markdown",
      "source": [
        "## Data Operators\n",
        "\n",
        "Several types of operators can be applied to the different datatypes. Operators apply different operations on the data. There are 3 main classes of operators that will be covered: **Arithmetic Operators**, **Comparison Operators**, and **Logical Operators**.\n",
        "\n"
      ],
      "metadata": {
        "id": "D3lQsUUAdiTE"
      }
    },
    {
      "cell_type": "markdown",
      "source": [
        "### Arithmetic Operators:\n",
        "\n",
        "\n",
        "---\n",
        "\n",
        "\n",
        "Arithmetic operators are operators applied to integers & floats.  \n",
        "\n",
        "The main arithmetic operators are:\n",
        "\n",
        "1.   `Addition:` (+)\n",
        "2.   `Subtraction:` (-)\n",
        "3.   `Multiplication:` (*)\n",
        "4.   `Exponential:` (**)\n",
        "5.   `Division:` (/)\n",
        "6.   `Floor Division:` (//)\n",
        "7.   `Modulus:` (%)\n",
        "\n"
      ],
      "metadata": {
        "id": "w-1muPYj-pws"
      }
    },
    {
      "cell_type": "code",
      "source": [
        "# Addition\n",
        "print(2 + 3)"
      ],
      "metadata": {
        "id": "w_NEjqMRAWqp",
        "colab": {
          "base_uri": "https://localhost:8080/"
        },
        "outputId": "2b8e64e3-0124-4384-a38b-d9af79fa9cd5"
      },
      "execution_count": 5,
      "outputs": [
        {
          "output_type": "stream",
          "name": "stdout",
          "text": [
            "5\n"
          ]
        }
      ]
    },
    {
      "cell_type": "code",
      "source": [
        "# Subtraction\n",
        "print(2 - 3)"
      ],
      "metadata": {
        "colab": {
          "base_uri": "https://localhost:8080/"
        },
        "id": "NI5o65PNnWLo",
        "outputId": "2e08100e-1934-4931-aa04-471d93d2907c"
      },
      "execution_count": 6,
      "outputs": [
        {
          "output_type": "stream",
          "name": "stdout",
          "text": [
            "-1\n"
          ]
        }
      ]
    },
    {
      "cell_type": "code",
      "source": [
        "# Multiplication\n",
        "print(2 * 3)"
      ],
      "metadata": {
        "colab": {
          "base_uri": "https://localhost:8080/"
        },
        "id": "XGdg5s5AnY4K",
        "outputId": "313067a1-ff79-4402-ca26-b8bcc7bf8f44"
      },
      "execution_count": 7,
      "outputs": [
        {
          "output_type": "stream",
          "name": "stdout",
          "text": [
            "6\n"
          ]
        }
      ]
    },
    {
      "cell_type": "code",
      "source": [
        "# Exponential\n",
        "print(2 ** 3)"
      ],
      "metadata": {
        "colab": {
          "base_uri": "https://localhost:8080/"
        },
        "id": "wkJ7xx1onaSr",
        "outputId": "fcb038c0-07e4-4c75-c6ca-4c6ef721f231"
      },
      "execution_count": 8,
      "outputs": [
        {
          "output_type": "stream",
          "name": "stdout",
          "text": [
            "8\n"
          ]
        }
      ]
    },
    {
      "cell_type": "code",
      "source": [
        "# Division\n",
        "print(2 / 3)"
      ],
      "metadata": {
        "colab": {
          "base_uri": "https://localhost:8080/"
        },
        "id": "cC0Y3PD2nann",
        "outputId": "74d28b4e-2513-46e3-acba-1545ef0588f0"
      },
      "execution_count": 9,
      "outputs": [
        {
          "output_type": "stream",
          "name": "stdout",
          "text": [
            "0.6666666666666666\n"
          ]
        }
      ]
    },
    {
      "cell_type": "code",
      "source": [
        "# Floor Division\n",
        "print(2 // 3)"
      ],
      "metadata": {
        "colab": {
          "base_uri": "https://localhost:8080/"
        },
        "id": "xK-t1KfLnazQ",
        "outputId": "ef8d8e2a-a13b-4bb9-a838-a46cfeb2e809"
      },
      "execution_count": 10,
      "outputs": [
        {
          "output_type": "stream",
          "name": "stdout",
          "text": [
            "0\n"
          ]
        }
      ]
    },
    {
      "cell_type": "code",
      "source": [
        "# Modulus\n",
        "print(2 % 3)"
      ],
      "metadata": {
        "colab": {
          "base_uri": "https://localhost:8080/"
        },
        "id": "0AqZDXx3na8b",
        "outputId": "061c6859-2100-452f-9b8e-587b8c1e90c6"
      },
      "execution_count": 11,
      "outputs": [
        {
          "output_type": "stream",
          "name": "stdout",
          "text": [
            "2\n"
          ]
        }
      ]
    },
    {
      "cell_type": "markdown",
      "source": [
        "Some arithmetic operators can also be applied to strings."
      ],
      "metadata": {
        "id": "fkzh6Qb-W1cD"
      }
    },
    {
      "cell_type": "code",
      "source": [
        "print('hello ' + 'world')\n",
        "print('hello' * 3)"
      ],
      "metadata": {
        "colab": {
          "base_uri": "https://localhost:8080/"
        },
        "id": "kBx_O92gWv2W",
        "outputId": "7a4fffa7-50cb-49c8-a0d6-704bbd1cb60a"
      },
      "execution_count": 12,
      "outputs": [
        {
          "output_type": "stream",
          "name": "stdout",
          "text": [
            "hello world\n",
            "hellohellohello\n"
          ]
        }
      ]
    },
    {
      "cell_type": "markdown",
      "source": [
        "#### Comparison Operators\n",
        "\n",
        "\n",
        "---\n",
        "\n",
        "\n",
        "Comparison operators compare two expressions to each other.\n",
        "\n",
        "The main comparison operators are:\n",
        "\n",
        "1.   `Equal:` (==) Checks if two expressions are equal.\n",
        "2.   `Not equal:` (!=) Checks if two expressions are not equal.\n",
        "3.   `Less than:` (<) Checks if the left-hand expression is less than the right-hand expression.\n",
        "4.   `Greater than:` (>) Checks if the left-hand expression is greater than the right-hand expression.\n",
        "5.   `Less than or equal to:` (<=) Checks if the left-hand expression is less than or equal tothe right-hand expression.\n",
        "6.   `Greater than or equal to:` (>=) Checks if the left-hand expression is greater than or equal to the right-hand expression."
      ],
      "metadata": {
        "id": "zbHBVSqLqTbM"
      }
    },
    {
      "cell_type": "code",
      "source": [
        "# Equal\n",
        "\n",
        "2 == 2"
      ],
      "metadata": {
        "colab": {
          "base_uri": "https://localhost:8080/"
        },
        "id": "OHhu6s13qSJg",
        "outputId": "1717408e-039d-46f5-a4d0-b32c69bf50e1"
      },
      "execution_count": 13,
      "outputs": [
        {
          "output_type": "execute_result",
          "data": {
            "text/plain": [
              "True"
            ]
          },
          "metadata": {},
          "execution_count": 13
        }
      ]
    },
    {
      "cell_type": "code",
      "source": [
        "# Not equal\n",
        "\n",
        "'apple' != 'banana'"
      ],
      "metadata": {
        "colab": {
          "base_uri": "https://localhost:8080/"
        },
        "id": "qfNN0VEFxzBS",
        "outputId": "1fb12c31-528d-4826-f110-f44e0134845f"
      },
      "execution_count": 14,
      "outputs": [
        {
          "output_type": "execute_result",
          "data": {
            "text/plain": [
              "True"
            ]
          },
          "metadata": {},
          "execution_count": 14
        }
      ]
    },
    {
      "cell_type": "code",
      "source": [
        "# Less than\n",
        "\n",
        "15 <= 2"
      ],
      "metadata": {
        "colab": {
          "base_uri": "https://localhost:8080/"
        },
        "id": "I7Eack4sx1Kl",
        "outputId": "e948db4b-8922-4f07-a8ec-735c998e0884"
      },
      "execution_count": 15,
      "outputs": [
        {
          "output_type": "execute_result",
          "data": {
            "text/plain": [
              "False"
            ]
          },
          "metadata": {},
          "execution_count": 15
        }
      ]
    },
    {
      "cell_type": "code",
      "source": [
        "# Greater than\n",
        "\n",
        "10 >= 20"
      ],
      "metadata": {
        "colab": {
          "base_uri": "https://localhost:8080/"
        },
        "id": "qGL42ZOPx3s1",
        "outputId": "86f11f90-cd69-4ad9-ba6c-f0fcdc8811be"
      },
      "execution_count": 16,
      "outputs": [
        {
          "output_type": "execute_result",
          "data": {
            "text/plain": [
              "False"
            ]
          },
          "metadata": {},
          "execution_count": 16
        }
      ]
    },
    {
      "cell_type": "markdown",
      "source": [
        "#### Boolean Operators:\n",
        "\n",
        "\n",
        "---\n",
        "\n",
        "![grid-auto.png](data:image/png;base64,iVBORw0KGgoAAAANSUhEUgAAA7EAAAFFBAMAAADIkXdMAAAABGdBTUEAALGPC/xhBQAAAAFzUkdCAK7OHOkAAAAwUExURS54yN23e4HJqufK1v////j49+Hw7+z19vjw4mWY1qbYw8nm3u/cv+XJnLTM642z4Za1EAsAAAZlSURBVHja7d29i1RXFADwLbLKEthFiLCF2wxqoWX+gSS80XwaI6PExIDIkCJpJEywFlawiGBhk3YxCSRNCAtCUi2skFYwnYLFNulS7B+Q92Y/nJ1Nk2LOxXN/p1hmt5v9ce8995z77ptrRMq4OPfWXDXx2ju9auIkWbJkyZIlS5YsWbJkyZIlS5YsWbJkyZIlS5YsWbJkyZIlS5YsWbJkyZIlS5YsWbJkyZIlS5YsWbJkyZIlS5YsWbJkyZIlS5YsWbJkyZIlS5YsWbJkyZIlS5YsWbJkyZIlS5YsWbJkyZIlS5Ys2ZyyR5rmen7Z07vvV+lf+b0a2e2m+bge2TbOrVUiO2y/a1Wyzbk6ZBe673q/KtnmsypkF7uv+qIG2fO32hiMF9sqZOd33ttWgew34w+/dLY3apDd6mQv1CPbO9t+3/drkB01F4bN+Ypkez+E51BFZJea5r122P5TkeyZ8IW2iGxXp5gvUasoJ9tr93lr+WUftOO1TY/fq0l2vQrZrXaNXSiRQhWUfViF7KBDHTZ9sslkdybi7QK1CrKzjaPj5Kn9edM6m0t2e7zhWSzQ7ikoO6ph17NTpFgo0O4pJ3u2aT5IL7uXFQ/j2z3lZNvJ+FJ62XYavro7Kb+oRfbHJnqZLSE73zS/7iZSV9PLXvq5i0fxDYESslu7s/BifK2iYOf9/Fp+2dFe5jQIb/cUlP2tl152aX+3sx7e7jFmZ9zoubnfGLhejWz4Ebd42Qf7KfGR8HZPvOznf3TxqMARt3jZ9f1t7FJ4ClVs13N21OSvLk6UngZN/34dsr0zg+hSRbjsZLl4K7pWUbBufCq6vBgue3QibZqPbvcUlA0/CBUuu93Oxrd2YxTd7ikoG34QKlx22ByIc9XIPgyuVkTLLjRTcb8W2ZPJZV+fln1Ri+yp4Oc/omUfTMterUg29ZhtNzp/f78fR4JrFdbZWTZ6JosTS01su6ek7Hpu2emC4jC23VNSdpR71zPdBNiKbfcUlD2dvFKxPSU5H9vuKSi7nry6OD37Bp+YKSf7UzM5M+eTXZjOmNo/RLZ7SsmeGTdoM3fxDg/RYWitIl72ypdtfDu+giT1SfLDy+p2aLsnXvZl9Ncyyx5OhY+GtntKyt7oZZYdHdq+Loa2e8rJ9r/qZZZd+I+SU+iJmVKyl79e66WWLR7BskWDLFmyZMmSJUuWLFmyZMmSJUuWLFmyZMmSJUuWLFmyZMmSJUuWLFmyZMmSJUuWLFmyZMmSJUuWLFmyZMmSJUuWLFmyZMmSJUuWLFmyZMmSJUuWLFmyZMmSJUuWLFmyZMmSJUuWLFmyZMmSJUuWLFmyZMmSJUuWLFmyZMNkG5Ey6pJ9s6K4OPf2sWriDbJkyZIlS5YsWbJkyZIlS5YsWbJkyZIlS5YsWbJkyZIlS5YsWbJkyZIlS5YsWbJkyZIlS5YsWbJkyZIlS5YsWbJkyZIlS5YsWbJkyZIlS5YsWbJkyZIlS5YsWbJkyZIlS5YsWbJkyZIlS5Ys2XpkT9zp3sTx6QbZZLJ/7r1l5RrZVLKPX75A5xrZRLJ/Tb4b6QuyaWRPjEX7d+8Oxh82yGaRXe1cv9tfbj8km0R2uYPdePk5ctCSnWUMJjE72ttkU8guH8yaVpt3zcY5ZDfbufgAtAwqiWw7ZD+Z/P2eXU8O2XYy7j9RN04o+zR2m0M2cjN7m2xC2ZV2mX1CNqHsiSZ0l0M2LI4XXWbJzvBfO7XnIZtFdrNoAkV2prIbZDPKrhZNjcmSJUuWLFmyZF9N2T5ZY5YsWbIqFWRVF8n+r3iqI6CLR/aVkl3WeU8q67RMVlkn3NLKbjqVmlT20EnyFbI5ZFemn/7YvEY2hWy30PYPSt8mm0L2+MGnLJ+GboPIznI6PvBkdHdnxUdkU8iOb5bZu81gZdVtBnlkx9cZ9MePzT4buIEkk+zy3q1Bd9walEu2q1a46Sul7PhGqN2ILUiRnXU8dqNmUtljz3Zuwb13jGwy2XbD8/x5fDuPbNYgS5YsWbJkyZIlS5YsWbJkyZIlS5YsWbJkyZIlS5YsWbJkyZIlS5YsWbJkyZIlS5YsWbJkyZIlS5YsWbJkyZIlS5YsWbJkyZIlS5YsWbJkyZIlS5YsWbJkyZIlS5YsWbJkyZIlS5YsWbJkyZIlS5YsWbJkyZIl+4rINhVFXbKXRcq4+C8UEDvG208YhAAAAABJRU5ErkJggg==)\n",
        "\n",
        "Boolean operators are used to\n",
        "\n",
        "The main boolean operators are:\n",
        "\n",
        "1.   `and`: `True` if both statements are true, `False` otherwise\n",
        "2.   `or`: `True` if either statement is true, `False` otherwise\n",
        "3.   `not`: `True` if the given statement is false, `False` otherwise"
      ],
      "metadata": {
        "id": "5S6arMxF6iPP"
      }
    },
    {
      "cell_type": "code",
      "source": [
        "# 2 is equal to 2 and 3 is equal to 3, thus it returns true\n",
        "\n",
        "print((2 == 2) and (3 == 3))"
      ],
      "metadata": {
        "id": "9EHWgci7Pwo7",
        "colab": {
          "base_uri": "https://localhost:8080/"
        },
        "outputId": "5e3dc7cb-e317-4e81-dfd0-4fdb8c1a78f8"
      },
      "execution_count": 17,
      "outputs": [
        {
          "output_type": "stream",
          "name": "stdout",
          "text": [
            "True\n"
          ]
        }
      ]
    },
    {
      "cell_type": "code",
      "source": [
        "# 3 is not equal to 2, thus one statement is false, and it returns False\n",
        "\n",
        "print((3 == 2) and (3 == 3))"
      ],
      "metadata": {
        "id": "rAH4lDVnGQfI",
        "colab": {
          "base_uri": "https://localhost:8080/"
        },
        "outputId": "5fe76657-23bf-466b-c350-b7dde5feebc2"
      },
      "execution_count": 18,
      "outputs": [
        {
          "output_type": "stream",
          "name": "stdout",
          "text": [
            "False\n"
          ]
        }
      ]
    },
    {
      "cell_type": "code",
      "source": [
        "# 3 is not equal to 2, but 3 is equal to 3, so it returns True\n",
        "\n",
        "print((3 == 2) or (3 == 3))"
      ],
      "metadata": {
        "id": "dZ0RuFE5GQ9K",
        "colab": {
          "base_uri": "https://localhost:8080/"
        },
        "outputId": "8872cdad-0efd-4fff-870a-312e6589fe48"
      },
      "execution_count": 19,
      "outputs": [
        {
          "output_type": "stream",
          "name": "stdout",
          "text": [
            "True\n"
          ]
        }
      ]
    },
    {
      "cell_type": "code",
      "source": [
        "# 3 is not equal to 2, and 4 is not equal to 3 so it returns\n",
        "\n",
        "print((3 == 2) or (4 == 3))"
      ],
      "metadata": {
        "id": "J81-EaW_GROw",
        "colab": {
          "base_uri": "https://localhost:8080/"
        },
        "outputId": "ff3b9210-f1b5-4242-c33d-bbe143da61fe"
      },
      "execution_count": 20,
      "outputs": [
        {
          "output_type": "stream",
          "name": "stdout",
          "text": [
            "False\n"
          ]
        }
      ]
    },
    {
      "cell_type": "code",
      "source": [
        "# since 2 is not equal to 3, which returns false, it will return true\n",
        "\n",
        "print(not(2==3))"
      ],
      "metadata": {
        "id": "3OO1-ZSSGRfl",
        "colab": {
          "base_uri": "https://localhost:8080/"
        },
        "outputId": "172ddef5-d0a4-4c53-f399-ae02add2a934"
      },
      "execution_count": 21,
      "outputs": [
        {
          "output_type": "stream",
          "name": "stdout",
          "text": [
            "True\n"
          ]
        }
      ]
    },
    {
      "cell_type": "code",
      "source": [
        "# since 3 is equal to 3, which returns true, it will return false\n",
        "\n",
        "print(not(3==3))"
      ],
      "metadata": {
        "id": "v3YF-LPuGSY5",
        "colab": {
          "base_uri": "https://localhost:8080/"
        },
        "outputId": "659e056b-7ca8-40ec-c07b-208216187083"
      },
      "execution_count": 22,
      "outputs": [
        {
          "output_type": "stream",
          "name": "stdout",
          "text": [
            "False\n"
          ]
        }
      ]
    },
    {
      "cell_type": "markdown",
      "source": [
        "## Exercise 1:\n",
        "\n",
        "---"
      ],
      "metadata": {
        "id": "bSrYxk3FWkYI"
      }
    },
    {
      "cell_type": "markdown",
      "source": [
        "1.   Use Python to calculate the following computations:\n",
        "  *   35 + 27\n",
        "  *   26 * 13\n",
        "  *   40 / 5"
      ],
      "metadata": {
        "id": "JiuOFXVVaQEZ"
      }
    },
    {
      "cell_type": "code",
      "source": [
        "# a\n",
        "\n",
        "35 + 27"
      ],
      "metadata": {
        "id": "K6-6-Nq9YA-j",
        "colab": {
          "base_uri": "https://localhost:8080/"
        },
        "outputId": "1256a62b-31eb-40bb-c2fd-0f4ff30f6584"
      },
      "execution_count": 23,
      "outputs": [
        {
          "output_type": "execute_result",
          "data": {
            "text/plain": [
              "62"
            ]
          },
          "metadata": {},
          "execution_count": 23
        }
      ]
    },
    {
      "cell_type": "code",
      "source": [
        "# b\n",
        "\n",
        "26 * 13"
      ],
      "metadata": {
        "id": "bp4u8ih4YCiN",
        "colab": {
          "base_uri": "https://localhost:8080/"
        },
        "outputId": "c468e9c6-3585-4e1e-8fd0-2d9375ec9fb8"
      },
      "execution_count": 24,
      "outputs": [
        {
          "output_type": "execute_result",
          "data": {
            "text/plain": [
              "338"
            ]
          },
          "metadata": {},
          "execution_count": 24
        }
      ]
    },
    {
      "cell_type": "code",
      "source": [
        "# c\n",
        "\n",
        "40 / 5"
      ],
      "metadata": {
        "id": "fydZwMI-YDVK",
        "colab": {
          "base_uri": "https://localhost:8080/"
        },
        "outputId": "399c8c67-1319-4bdd-c38d-7c791b8dc152"
      },
      "execution_count": 25,
      "outputs": [
        {
          "output_type": "execute_result",
          "data": {
            "text/plain": [
              "8.0"
            ]
          },
          "metadata": {},
          "execution_count": 25
        }
      ]
    },
    {
      "cell_type": "markdown",
      "source": [
        "\n",
        "2.   Edit the following examples such that they return True\n",
        "\n",
        "\n",
        "\n"
      ],
      "metadata": {
        "id": "zU5CoSXNoEPB"
      }
    },
    {
      "cell_type": "code",
      "source": [
        "# a\n",
        "\n",
        "(2 <= 5) and (4 > 3)"
      ],
      "metadata": {
        "colab": {
          "base_uri": "https://localhost:8080/"
        },
        "id": "accVrd3Kosec",
        "outputId": "80fad97c-618c-41d6-c690-f66503016d5a"
      },
      "execution_count": 26,
      "outputs": [
        {
          "output_type": "execute_result",
          "data": {
            "text/plain": [
              "True"
            ]
          },
          "metadata": {},
          "execution_count": 26
        }
      ]
    },
    {
      "cell_type": "code",
      "source": [
        "# b\n",
        "\n",
        "(3 == 3) or (4 != 4)"
      ],
      "metadata": {
        "colab": {
          "base_uri": "https://localhost:8080/"
        },
        "id": "6MXn4wPkoszg",
        "outputId": "f2d875c5-b1c9-46f6-f661-0d9814d69793"
      },
      "execution_count": 27,
      "outputs": [
        {
          "output_type": "execute_result",
          "data": {
            "text/plain": [
              "True"
            ]
          },
          "metadata": {},
          "execution_count": 27
        }
      ]
    },
    {
      "cell_type": "code",
      "source": [
        "# c\n",
        "\n",
        "not (((((5 == 5) or (8 > 2)) and not (7 < 3)) or ((9 == 9) and (4 > 12))) and (not ((14 <= 14) or (3 != 3) or (6 == 7))) and ((5 > 3) and not (7 > 9) or (10 <= 8)))\n"
      ],
      "metadata": {
        "colab": {
          "base_uri": "https://localhost:8080/"
        },
        "id": "kjfKdEaaos_k",
        "outputId": "7e7f0c2a-94a3-4956-869a-c32b530fef19"
      },
      "execution_count": 28,
      "outputs": [
        {
          "output_type": "execute_result",
          "data": {
            "text/plain": [
              "True"
            ]
          },
          "metadata": {},
          "execution_count": 28
        }
      ]
    },
    {
      "cell_type": "markdown",
      "source": [
        "## Variables\n",
        "\n",
        "---\n",
        "\n",
        "Variables are pointers to data. When a variable is declared, an object is created in the computer's memory and the variable references the object's memory address. Think of variables as an address to a house where an object is residing in.\n",
        "\n",
        "Variables can be used just like the information they are referencing (e.g. you can add variables carrying numbers together). Variables help organize scripts and remove redundacy."
      ],
      "metadata": {
        "id": "sFsBW5FTU9Qj"
      }
    },
    {
      "cell_type": "code",
      "source": [
        "name = 'John'\n",
        "Name = 'Adam'\n",
        "age = 20\n",
        "print(name)\n",
        "print(Name)\n",
        "print(age)\n",
        "\n",
        "a = 5\n",
        "b = 10\n",
        "print(a+b)"
      ],
      "metadata": {
        "colab": {
          "base_uri": "https://localhost:8080/"
        },
        "id": "tZnAQMZsYl9u",
        "outputId": "4524da43-69b6-4f77-934f-73811afc8ffa"
      },
      "execution_count": 29,
      "outputs": [
        {
          "output_type": "stream",
          "name": "stdout",
          "text": [
            "John\n",
            "Adam\n",
            "20\n",
            "15\n"
          ]
        }
      ]
    },
    {
      "cell_type": "markdown",
      "source": [
        "#### Variable Naming Conventions\n",
        "\n",
        "---\n",
        "\n",
        "The main conventions when naming variables are as follows:\n",
        "\n",
        "\n",
        "1.   Variable must start with letter (a-z, A-Z) or underscore\n",
        "2.   Variable may not start with a number\n",
        "3.   Variable may only contain alphanumeric values (a-z, A-Z, _, 0-9)\n",
        "4.   Variable names are case-sensitive\n",
        "\n",
        "It is suggested that variable names reflect the information it is referencing (e.g. if I were to store my name, I'd store it in a variable called `name`)\n",
        "\n",
        "\n",
        "\n",
        "\n"
      ],
      "metadata": {
        "id": "JZzaOccQYpP4"
      }
    },
    {
      "cell_type": "code",
      "source": [
        "# allowed\n",
        "\n",
        "blood_type = 'A'"
      ],
      "metadata": {
        "id": "cb3sZeVfbUZm"
      },
      "execution_count": 30,
      "outputs": []
    },
    {
      "cell_type": "code",
      "source": [
        "# not allowed\n",
        "\n",
        "1blood_type = 'B'"
      ],
      "metadata": {
        "colab": {
          "base_uri": "https://localhost:8080/",
          "height": 108
        },
        "id": "5Cytq1PQbcF2",
        "outputId": "c358e1d9-a9d2-4668-caea-9fc69b686061"
      },
      "execution_count": 31,
      "outputs": [
        {
          "output_type": "error",
          "ename": "SyntaxError",
          "evalue": "invalid decimal literal (<ipython-input-31-1c8c78ff112b>, line 3)",
          "traceback": [
            "\u001b[0;36m  File \u001b[0;32m\"<ipython-input-31-1c8c78ff112b>\"\u001b[0;36m, line \u001b[0;32m3\u001b[0m\n\u001b[0;31m    1blood_type = 'B'\u001b[0m\n\u001b[0m    ^\u001b[0m\n\u001b[0;31mSyntaxError\u001b[0m\u001b[0;31m:\u001b[0m invalid decimal literal\n"
          ]
        }
      ]
    },
    {
      "cell_type": "code",
      "source": [
        "# not allowed\n",
        "\n",
        "blood_!_type = 'A'"
      ],
      "metadata": {
        "id": "6tQIH_7CbmMw"
      },
      "execution_count": null,
      "outputs": []
    },
    {
      "cell_type": "markdown",
      "source": [
        "## Data Structures\n",
        "\n",
        "---\n",
        "\n",
        "Data structures are useful in storing large amounts of data efficiently, allowing for us to easily access, update, and perform operations on them. The data structures that will be covered today are:\n",
        "\n",
        "\n",
        "\n",
        "1.   `Lists`\n",
        "2.   `Dictionaries`\n"
      ],
      "metadata": {
        "id": "L0Jykb5sg5np"
      }
    },
    {
      "cell_type": "markdown",
      "source": [
        "#### Lists\n",
        "\n",
        "Lists are ordered collections of objects which do not have to be of the same type. They are mutable, meaning you can edit them."
      ],
      "metadata": {
        "id": "OyqKgEMpcYvY"
      }
    },
    {
      "cell_type": "code",
      "source": [
        "my_list = [1, 2, 3, 'apple', True, 15.6]\n",
        "print(my_list)"
      ],
      "metadata": {
        "colab": {
          "base_uri": "https://localhost:8080/"
        },
        "id": "xDqXdJY6cWj7",
        "outputId": "5edf3b1e-1e75-4c63-a4f4-1ca93b3f0fa5"
      },
      "execution_count": 32,
      "outputs": [
        {
          "output_type": "stream",
          "name": "stdout",
          "text": [
            "[1, 2, 3, 'apple', True, 15.6]\n"
          ]
        }
      ]
    },
    {
      "cell_type": "markdown",
      "source": [
        "There are some arithmetic operators which can be applied to lists."
      ],
      "metadata": {
        "id": "jCwWDmc8h0bF"
      }
    },
    {
      "cell_type": "code",
      "source": [
        "print([1, 2, 3] + [4, 5, 6])\n",
        "print([1, 2, 3] * 2)"
      ],
      "metadata": {
        "colab": {
          "base_uri": "https://localhost:8080/"
        },
        "id": "mDsM4PAqhzu2",
        "outputId": "5e90eea8-5cd0-44a6-a9d0-b704a89cedaa"
      },
      "execution_count": 33,
      "outputs": [
        {
          "output_type": "stream",
          "name": "stdout",
          "text": [
            "[1, 2, 3, 4, 5, 6]\n",
            "[1, 2, 3, 1, 2, 3]\n"
          ]
        }
      ]
    },
    {
      "cell_type": "markdown",
      "source": [
        "You can access elements of a list by taking the variable name holding the list and passing through the index number (e.g. my_list[0]).\n",
        "\n",
        "Other ways you can access values from a list are as follows:\n",
        "\n",
        "\n",
        "1.   You can access the last nth values of the list by passing through the -n value. (e.g to access the last value, input in my_list[-1])\n",
        "2.   You can access a sequence of elements in a list by passing through ':' and specifying which elements you want passed through. (e.g. if you want to pass through the 3rd to 5th element of a list (non-inclusive), you would want to input in my_list[3:5])\n",
        "\n"
      ],
      "metadata": {
        "id": "JvX4B7aZf28Y"
      }
    },
    {
      "cell_type": "code",
      "source": [
        "# accesses the 0th element of the list\n",
        "\n",
        "print(my_list[0])"
      ],
      "metadata": {
        "colab": {
          "base_uri": "https://localhost:8080/"
        },
        "id": "ieSPjst1f1wA",
        "outputId": "e7553203-38b7-446b-8a7d-fa566de5b2b2"
      },
      "execution_count": 34,
      "outputs": [
        {
          "output_type": "stream",
          "name": "stdout",
          "text": [
            "1\n"
          ]
        }
      ]
    },
    {
      "cell_type": "code",
      "source": [
        "# accesses the -0th, or the last element of the list\n",
        "\n",
        "print(my_list[-1])"
      ],
      "metadata": {
        "id": "da0y3UWT1Qi5",
        "colab": {
          "base_uri": "https://localhost:8080/"
        },
        "outputId": "6d83d087-457a-49a7-a533-18f84eb70340"
      },
      "execution_count": 35,
      "outputs": [
        {
          "output_type": "stream",
          "name": "stdout",
          "text": [
            "15.6\n"
          ]
        }
      ]
    },
    {
      "cell_type": "code",
      "source": [
        "# accesses the 3rd to 5th elements of the list, non-inclusive\n",
        "\n",
        "print(my_list[3:5])"
      ],
      "metadata": {
        "id": "ljheLnKK1SYc",
        "colab": {
          "base_uri": "https://localhost:8080/"
        },
        "outputId": "ae0a6c24-747b-44a9-c53c-1d3b3d3ce49d"
      },
      "execution_count": 36,
      "outputs": [
        {
          "output_type": "stream",
          "name": "stdout",
          "text": [
            "['apple', True]\n"
          ]
        }
      ]
    },
    {
      "cell_type": "code",
      "source": [
        "# accessing the 3rd to -1st (last) element of a list, non-inclusive\n",
        "\n",
        "print(my_list[3:-1])"
      ],
      "metadata": {
        "colab": {
          "base_uri": "https://localhost:8080/"
        },
        "id": "q_MT4Jr_1VKM",
        "outputId": "0bdf746e-fd94-4240-82d1-5688f9edb84f"
      },
      "execution_count": 37,
      "outputs": [
        {
          "output_type": "stream",
          "name": "stdout",
          "text": [
            "['apple', True]\n"
          ]
        }
      ]
    },
    {
      "cell_type": "code",
      "source": [
        "# if left empty, will return from 3rd element to the last element of the list, inclusive\n",
        "\n",
        "print(my_list[3:])\n",
        "\n",
        "# similarly, if the first part is left empty, will return the first element to the 4th element, non-inclusive\n",
        "\n",
        "print(my_list[:4])"
      ],
      "metadata": {
        "colab": {
          "base_uri": "https://localhost:8080/"
        },
        "id": "5oY_Snnl1gEO",
        "outputId": "e0d3edae-2fcd-454d-98b1-a9b369ba1560"
      },
      "execution_count": 38,
      "outputs": [
        {
          "output_type": "stream",
          "name": "stdout",
          "text": [
            "['apple', True, 15.6]\n",
            "[1, 2, 3, 'apple']\n"
          ]
        }
      ]
    },
    {
      "cell_type": "markdown",
      "source": [
        "Using the same idea, you can change the elements of a list accordingly."
      ],
      "metadata": {
        "id": "El7uCMy-7fot"
      }
    },
    {
      "cell_type": "code",
      "source": [
        "print(my_list)\n",
        "my_list[0] = 'cheese'\n",
        "print(my_list)"
      ],
      "metadata": {
        "id": "wzmuCelm7fIP",
        "colab": {
          "base_uri": "https://localhost:8080/"
        },
        "outputId": "d0ffa88d-61a1-42fc-9991-ca0774e973d0"
      },
      "execution_count": 39,
      "outputs": [
        {
          "output_type": "stream",
          "name": "stdout",
          "text": [
            "[1, 2, 3, 'apple', True, 15.6]\n",
            "['cheese', 2, 3, 'apple', True, 15.6]\n"
          ]
        }
      ]
    },
    {
      "cell_type": "markdown",
      "source": [
        "##### Lists Built-in Functions\n",
        "\n",
        "Lists have many built in functions. The full documentation is [here](https://www.geeksforgeeks.org/list-methods-python/#). Here are some of the more commonly used ones.\n",
        "\n",
        "\n",
        "1.   `append(a):` appends an element `a` to the end of the list\n",
        "2.   `extend(a):` adds each element of an iterable `a` to the end of the list\n",
        "3.   `insert(n, a):` inserts element `a` at the index `n` of the list\n",
        "4.   `remove(a):` removes element `a` from the list\n",
        "5.   `pop(n):` removes the element from index `n` of a list\n",
        "6.   `index(a):` returns the first instance of element `a` from the list\n",
        "7.   `count(a):` returns the count of element `a` of the list\n",
        "8.   `clear():` clears the list\n",
        "\n",
        "\n",
        "\n",
        "\n"
      ],
      "metadata": {
        "id": "VPZ5sFuQfsGV"
      }
    },
    {
      "cell_type": "code",
      "source": [
        "demonstration = ['apple', 'strawberry', 'banana', 'strawberry']"
      ],
      "metadata": {
        "id": "5Vpivc5DfqiZ"
      },
      "execution_count": 40,
      "outputs": []
    },
    {
      "cell_type": "code",
      "source": [
        "# append\n",
        "\n",
        "demonstration.append(11)\n",
        "print(demonstration)"
      ],
      "metadata": {
        "id": "iIwZx_QT37KF",
        "outputId": "675bc8c0-af7b-4d2c-b224-de2803480011",
        "colab": {
          "base_uri": "https://localhost:8080/"
        }
      },
      "execution_count": 41,
      "outputs": [
        {
          "output_type": "stream",
          "name": "stdout",
          "text": [
            "['apple', 'strawberry', 'banana', 'strawberry', 11]\n"
          ]
        }
      ]
    },
    {
      "cell_type": "code",
      "source": [
        "# extend\n",
        "\n",
        "demonstration.extend([12, 13, 14])\n",
        "print(demonstration)"
      ],
      "metadata": {
        "id": "L-no7iha3-nE",
        "outputId": "3c9c55f8-346d-40c0-8dbf-53c4ff66f9e5",
        "colab": {
          "base_uri": "https://localhost:8080/"
        }
      },
      "execution_count": 42,
      "outputs": [
        {
          "output_type": "stream",
          "name": "stdout",
          "text": [
            "['apple', 'strawberry', 'banana', 'strawberry', 11, 12, 13, 14]\n"
          ]
        }
      ]
    },
    {
      "cell_type": "code",
      "source": [
        "# insert\n",
        "\n",
        "demonstration.insert(0, 'new 0')\n",
        "print(demonstration)"
      ],
      "metadata": {
        "id": "wktdaR974L70",
        "outputId": "b28a4d18-c9c6-46ae-8ce6-35352d292c1a",
        "colab": {
          "base_uri": "https://localhost:8080/"
        }
      },
      "execution_count": 43,
      "outputs": [
        {
          "output_type": "stream",
          "name": "stdout",
          "text": [
            "['new 0', 'apple', 'strawberry', 'banana', 'strawberry', 11, 12, 13, 14]\n"
          ]
        }
      ]
    },
    {
      "cell_type": "code",
      "source": [
        "# remove\n",
        "\n",
        "demonstration.remove('new 0')\n",
        "print(demonstration)"
      ],
      "metadata": {
        "id": "t9WUzJKg4Thb",
        "outputId": "a21866a1-fb9b-4ba1-a45b-3dcd5eb1ceb5",
        "colab": {
          "base_uri": "https://localhost:8080/"
        }
      },
      "execution_count": 44,
      "outputs": [
        {
          "output_type": "stream",
          "name": "stdout",
          "text": [
            "['apple', 'strawberry', 'banana', 'strawberry', 11, 12, 13, 14]\n"
          ]
        }
      ]
    },
    {
      "cell_type": "code",
      "source": [
        "# pop\n",
        "\n",
        "demonstration.pop(2)\n",
        "print(demonstration)"
      ],
      "metadata": {
        "id": "OniBazEP4cMN",
        "outputId": "9bc37543-8e23-4a7d-ea80-5f58f0cd33d9",
        "colab": {
          "base_uri": "https://localhost:8080/"
        }
      },
      "execution_count": 45,
      "outputs": [
        {
          "output_type": "stream",
          "name": "stdout",
          "text": [
            "['apple', 'strawberry', 'strawberry', 11, 12, 13, 14]\n"
          ]
        }
      ]
    },
    {
      "cell_type": "code",
      "source": [
        "# index\n",
        "\n",
        "print(demonstration.index('strawberry'))\n",
        "print(demonstration)"
      ],
      "metadata": {
        "id": "hv6mVXfj4qrL",
        "outputId": "aaee1812-5197-418b-9b7d-9bf1b8712440",
        "colab": {
          "base_uri": "https://localhost:8080/"
        }
      },
      "execution_count": 46,
      "outputs": [
        {
          "output_type": "stream",
          "name": "stdout",
          "text": [
            "1\n",
            "['apple', 'strawberry', 'strawberry', 11, 12, 13, 14]\n"
          ]
        }
      ]
    },
    {
      "cell_type": "code",
      "source": [
        "# count\n",
        "\n",
        "print(demonstration.count('strawberry'))\n",
        "print(demonstration)"
      ],
      "metadata": {
        "id": "Wl1v2od45BA8",
        "outputId": "7cd36d6a-5561-4a7f-b824-940717fee8cf",
        "colab": {
          "base_uri": "https://localhost:8080/"
        }
      },
      "execution_count": 47,
      "outputs": [
        {
          "output_type": "stream",
          "name": "stdout",
          "text": [
            "2\n",
            "['apple', 'strawberry', 'strawberry', 11, 12, 13, 14]\n"
          ]
        }
      ]
    },
    {
      "cell_type": "code",
      "source": [
        "# clear\n",
        "\n",
        "demonstration.clear()\n",
        "print(demonstration)"
      ],
      "metadata": {
        "id": "yILn3HkW4iNh",
        "outputId": "25a3a7b7-467a-4c25-f380-ba8675c2dcf5",
        "colab": {
          "base_uri": "https://localhost:8080/"
        }
      },
      "execution_count": 48,
      "outputs": [
        {
          "output_type": "stream",
          "name": "stdout",
          "text": [
            "[]\n"
          ]
        }
      ]
    },
    {
      "cell_type": "markdown",
      "source": [
        "#### Dictionaries\n",
        "\n",
        "---\n",
        "\n",
        "Dictionaries are mutable, like lists. Instead of being ordered like lists, dictionaries map keys to values (i.e. you access elements of a dictionary with key values). Dictionaries can be created with curly braces {} with key : value. Keys can only be immutable objects (e.g strings or tuples)."
      ],
      "metadata": {
        "id": "O9D_Tfu4TlJu"
      }
    },
    {
      "cell_type": "code",
      "source": [
        "my_dict = {'age': 20, 'name': 'John'}\n",
        "print(type(my_dict))"
      ],
      "metadata": {
        "id": "bvHEVGFpTkF0",
        "colab": {
          "base_uri": "https://localhost:8080/"
        },
        "outputId": "e6631acf-0dc0-410f-9471-41081287b5b1"
      },
      "execution_count": 49,
      "outputs": [
        {
          "output_type": "stream",
          "name": "stdout",
          "text": [
            "<class 'dict'>\n"
          ]
        }
      ]
    },
    {
      "cell_type": "markdown",
      "source": [
        "Dictionary elements can accessed similarly to elements of a list, by passing through the key."
      ],
      "metadata": {
        "id": "YW77FdC4Alnf"
      }
    },
    {
      "cell_type": "code",
      "source": [
        "my_dict['height']"
      ],
      "metadata": {
        "colab": {
          "base_uri": "https://localhost:8080/",
          "height": 144
        },
        "id": "Mv7KDQrPAkdz",
        "outputId": "56052a32-f68d-4fe2-a2d5-15040379fad9"
      },
      "execution_count": 50,
      "outputs": [
        {
          "output_type": "error",
          "ename": "KeyError",
          "evalue": "'height'",
          "traceback": [
            "\u001b[0;31m---------------------------------------------------------------------------\u001b[0m",
            "\u001b[0;31mKeyError\u001b[0m                                  Traceback (most recent call last)",
            "\u001b[0;32m<ipython-input-50-5cdc211d671c>\u001b[0m in \u001b[0;36m<cell line: 1>\u001b[0;34m()\u001b[0m\n\u001b[0;32m----> 1\u001b[0;31m \u001b[0mmy_dict\u001b[0m\u001b[0;34m[\u001b[0m\u001b[0;34m'height'\u001b[0m\u001b[0;34m]\u001b[0m\u001b[0;34m\u001b[0m\u001b[0;34m\u001b[0m\u001b[0m\n\u001b[0m",
            "\u001b[0;31mKeyError\u001b[0m: 'height'"
          ]
        }
      ]
    },
    {
      "cell_type": "markdown",
      "source": [
        "##### Dictionary Built-in Functions\n",
        "\n",
        "---\n",
        "\n",
        "\n",
        "The full list of dictionary built-in functions are listed [here](https://www.w3schools.com/python/python_ref_dictionary.asp). Here is just a few of the more commonly used methods to demonstrate some of the dictionary's capabilities.\n",
        "\n",
        "\n",
        "1.   `get(key, default):` gets corresponding value of the `key` in the dictionary, returns `default` if key is not in the dictionary\n",
        "2.   `items():` returns all the key-value pairs in the dictionary as tuples\n",
        "3.   `keys():` returns all the keys of the dictionary\n",
        "4.   `values():` returns all the values of the dictionary\n",
        "5.   `pop(key, default):` pops the key-value pair associated with `key`, returns `default` if key is nopt in the dictionary\n"
      ],
      "metadata": {
        "id": "Ok9qPOWlBQUM"
      }
    },
    {
      "cell_type": "code",
      "source": [
        "# get value from my_dict with get\n",
        "\n",
        "print(my_dict.get('age', 0))\n",
        "print(my_dict.get('height', 0))"
      ],
      "metadata": {
        "colab": {
          "base_uri": "https://localhost:8080/"
        },
        "id": "lO8-vxaqGyTR",
        "outputId": "1eaf9956-67ae-4fe9-f32c-a52f17da1d4f"
      },
      "execution_count": 51,
      "outputs": [
        {
          "output_type": "stream",
          "name": "stdout",
          "text": [
            "20\n",
            "0\n"
          ]
        }
      ]
    },
    {
      "cell_type": "code",
      "source": [
        "# shows the items of the dictionary\n",
        "\n",
        "my_dict.items()"
      ],
      "metadata": {
        "colab": {
          "base_uri": "https://localhost:8080/"
        },
        "id": "yVOyy3VlG30T",
        "outputId": "ceacfb9a-bc1e-4530-ba19-4da3876d820f"
      },
      "execution_count": 52,
      "outputs": [
        {
          "output_type": "execute_result",
          "data": {
            "text/plain": [
              "dict_items([('age', 20), ('name', 'John')])"
            ]
          },
          "metadata": {},
          "execution_count": 52
        }
      ]
    },
    {
      "cell_type": "code",
      "source": [
        "# gets the keys from the dictionary\n",
        "\n",
        "my_dict.keys()"
      ],
      "metadata": {
        "colab": {
          "base_uri": "https://localhost:8080/"
        },
        "id": "XXHCaXfrG6g2",
        "outputId": "905be082-4c41-49da-ff9b-2d1b33889591"
      },
      "execution_count": 53,
      "outputs": [
        {
          "output_type": "execute_result",
          "data": {
            "text/plain": [
              "dict_keys(['age', 'name'])"
            ]
          },
          "metadata": {},
          "execution_count": 53
        }
      ]
    },
    {
      "cell_type": "code",
      "source": [
        "# gets the values from the dictionary\n",
        "\n",
        "my_dict.values()"
      ],
      "metadata": {
        "colab": {
          "base_uri": "https://localhost:8080/"
        },
        "id": "6CRATlhmG9Pn",
        "outputId": "e2786869-21a6-45b5-9818-7168fcc160c7"
      },
      "execution_count": 54,
      "outputs": [
        {
          "output_type": "execute_result",
          "data": {
            "text/plain": [
              "dict_values([20, 'John'])"
            ]
          },
          "metadata": {},
          "execution_count": 54
        }
      ]
    },
    {
      "cell_type": "code",
      "source": [
        "# pops value associated with key\n",
        "\n",
        "print(my_dict.pop('age', 0))\n",
        "print(my_dict.pop('height', 0))"
      ],
      "metadata": {
        "colab": {
          "base_uri": "https://localhost:8080/"
        },
        "id": "iVJqqMpRHSfJ",
        "outputId": "075df9a4-ab8c-4991-c9cf-2aadd557b318"
      },
      "execution_count": 55,
      "outputs": [
        {
          "output_type": "stream",
          "name": "stdout",
          "text": [
            "20\n",
            "0\n"
          ]
        }
      ]
    },
    {
      "cell_type": "markdown",
      "source": [
        "## Exercise 2:\n",
        "\n",
        "---\n",
        "\n",
        "1.   Given the following list:\n",
        "\n",
        "\n",
        "```\n",
        "exercise_list = [42, \"apple\", 3.14, True, \"Python\", 67, \"banana\", False, 12.5, \"elephant\"]\n",
        "```\n",
        "  *   Print the index of `12.5`\n",
        "  *   Add the element `\"Maybe\"` to the list\n",
        "  *   Remove `\"apple\"` from the list\n",
        "  *   Print the 3rd to 7th elements of the list\n",
        "\n"
      ],
      "metadata": {
        "id": "nI0CFBC9xr5L"
      }
    },
    {
      "cell_type": "code",
      "source": [
        "exercise_list = [42, \"apple\", 3.14, True, \"Python\", 67, \"banana\", False, 12.5, \"elephant\"]"
      ],
      "metadata": {
        "id": "b17zcAujyq9r"
      },
      "execution_count": 56,
      "outputs": []
    },
    {
      "cell_type": "code",
      "source": [
        "# a\n",
        "\n",
        "exercise_list.index(12.5)"
      ],
      "metadata": {
        "id": "G56Zk9ILylwL",
        "colab": {
          "base_uri": "https://localhost:8080/"
        },
        "outputId": "fd6a4ccb-2d4a-47cb-c43e-ea96094f829f"
      },
      "execution_count": 57,
      "outputs": [
        {
          "output_type": "execute_result",
          "data": {
            "text/plain": [
              "8"
            ]
          },
          "metadata": {},
          "execution_count": 57
        }
      ]
    },
    {
      "cell_type": "code",
      "source": [
        "# b\n",
        "\n",
        "exercise_list.append(\"Maybe\")\n",
        "print(exercise_list)"
      ],
      "metadata": {
        "id": "8w4pbhHGyn9k",
        "colab": {
          "base_uri": "https://localhost:8080/"
        },
        "outputId": "57fe76ae-8c6d-4887-f026-b980828d7abd"
      },
      "execution_count": 58,
      "outputs": [
        {
          "output_type": "stream",
          "name": "stdout",
          "text": [
            "[42, 'apple', 3.14, True, 'Python', 67, 'banana', False, 12.5, 'elephant', 'Maybe']\n"
          ]
        }
      ]
    },
    {
      "cell_type": "code",
      "source": [
        "# c\n",
        "\n",
        "exercise_list.remove(\"apple\")\n",
        "print(exercise_list)"
      ],
      "metadata": {
        "id": "MjJQmIg1yxSw",
        "colab": {
          "base_uri": "https://localhost:8080/"
        },
        "outputId": "03ec1c8f-9eab-444d-bf2b-9c98144d11e3"
      },
      "execution_count": 59,
      "outputs": [
        {
          "output_type": "stream",
          "name": "stdout",
          "text": [
            "[42, 3.14, True, 'Python', 67, 'banana', False, 12.5, 'elephant', 'Maybe']\n"
          ]
        }
      ]
    },
    {
      "cell_type": "code",
      "source": [
        "# d\n",
        "\n",
        "print(exercise_list[3:7])"
      ],
      "metadata": {
        "id": "BPvyva1Yy0cE",
        "colab": {
          "base_uri": "https://localhost:8080/"
        },
        "outputId": "ea077c2a-c470-4d49-f9f3-1f67dab8dbb0"
      },
      "execution_count": 60,
      "outputs": [
        {
          "output_type": "stream",
          "name": "stdout",
          "text": [
            "['Python', 67, 'banana', False]\n"
          ]
        }
      ]
    },
    {
      "cell_type": "markdown",
      "source": [
        "2. Create a dictionary with the following key value pairs:\n",
        "\n",
        "---\n",
        "\n",
        "  *   Name: your name\n",
        "  *   Year: your year\n",
        "  *   Favorite food: your favorite food\n",
        "  *   Favorite TV show: your favorite TV show\n",
        "\n"
      ],
      "metadata": {
        "id": "mHTl7Kouy2YT"
      }
    },
    {
      "cell_type": "code",
      "source": [],
      "metadata": {
        "id": "KrwWshPGy00n"
      },
      "execution_count": 60,
      "outputs": []
    },
    {
      "cell_type": "markdown",
      "source": [
        "## Conditional Statements"
      ],
      "metadata": {
        "id": "RH8S1ZCPrncR"
      }
    },
    {
      "cell_type": "markdown",
      "source": [
        "\n",
        "\n",
        "#### If Statements\n",
        "\n",
        "---\n",
        "\n",
        "If statements are a way to structure condition based code. If a conditions holds, we can do a certain task.\n",
        "\n",
        "The structure of an if statement is as follows:\n",
        "\n",
        "\n",
        "\n",
        "```\n",
        "if condition:\n",
        "  do something\n",
        "```\n",
        "\n",
        "\n",
        "\n",
        "The example below shows how if is structured and demosntrates how the output of hte if statement only occurs when the condition is true.\n",
        "\n",
        "\n",
        "\n",
        "\n"
      ],
      "metadata": {
        "id": "VBUm9nl1mrqm"
      }
    },
    {
      "cell_type": "code",
      "source": [
        "car = \"Mercedes\"\n",
        "\n",
        "if car == \"Ford\":\n",
        "    print(\"American car\")\n",
        "\n",
        "if car == \"Mercedes\":\n",
        "    print(\"German car\")"
      ],
      "metadata": {
        "colab": {
          "base_uri": "https://localhost:8080/"
        },
        "id": "NyY7Pp8Em6G4",
        "outputId": "c9030b35-04e3-46d3-b2e2-208b1eb96f59"
      },
      "execution_count": 61,
      "outputs": [
        {
          "output_type": "stream",
          "name": "stdout",
          "text": [
            "German car\n"
          ]
        }
      ]
    },
    {
      "cell_type": "markdown",
      "source": [
        "#### If, Elif, Else\n",
        "\n",
        "---\n",
        "\n",
        "To extend if statements, can use elif (meaning else if) and else.\n",
        "\n",
        "Suppose there are multiple conditions and we want different tasks based on, which condition is satisfied.\n",
        "\n",
        " We can use elif and else after if:\n",
        "\n",
        " - We can start with an if statement.\n",
        " - If there are 3 or more conditions, use elif to mean all previous conditions failed\n",
        " - check this new condition\n",
        " - At the end, use else, which will represent any outcome outside the previous conditions\n",
        "\n",
        "\n",
        "An example is shown below with a simple if-elif-else structure. As shown, the output is from code within else since y is larger than x (3 > 1)"
      ],
      "metadata": {
        "id": "_65TTccfnGfS"
      }
    },
    {
      "cell_type": "code",
      "source": [
        "x = 3\n",
        "y = 3\n",
        "\n",
        "if x > y:\n",
        "    print(\"x is larger\")\n",
        "elif x == y:\n",
        "    print (\"they are equal\")\n",
        "else:\n",
        "    print (\"y is larger\")"
      ],
      "metadata": {
        "id": "fxZ26MfXoeIj",
        "colab": {
          "base_uri": "https://localhost:8080/"
        },
        "outputId": "b0059344-9af2-43cc-97c1-867c25361888"
      },
      "execution_count": 62,
      "outputs": [
        {
          "output_type": "stream",
          "name": "stdout",
          "text": [
            "they are equal\n"
          ]
        }
      ]
    },
    {
      "cell_type": "markdown",
      "source": [
        "## Exercise 3\n",
        "---\n",
        "\n",
        "Here is a if-elif-else usign randomly chosen numbers.\n",
        "\n",
        "Predict the possible results. Try running many times to see if the result ever changes."
      ],
      "metadata": {
        "id": "5qHI1vhvpV22"
      }
    },
    {
      "cell_type": "code",
      "source": [
        "import random\n",
        "\n",
        "x = random.randint(1,3) # x will be a random integer between 1 and 3 inclusive\n",
        "y = random.randint(3,7) # y will be a random integer between 3 and 7 inclusive\n",
        "\n",
        "if x > y:\n",
        "    print(\"x is larger\")\n",
        "elif x == y:\n",
        "    print (\"they are equal\")\n",
        "else:\n",
        "    print (\"y is larger\")"
      ],
      "metadata": {
        "colab": {
          "base_uri": "https://localhost:8080/"
        },
        "id": "IN4iC31mpiM6",
        "outputId": "4855bed9-537f-4785-f3ee-8846dc1bf312"
      },
      "execution_count": 63,
      "outputs": [
        {
          "output_type": "stream",
          "name": "stdout",
          "text": [
            "y is larger\n"
          ]
        }
      ]
    },
    {
      "cell_type": "markdown",
      "source": [
        "## Loops"
      ],
      "metadata": {
        "id": "jqP5eOmxpx8N"
      }
    },
    {
      "cell_type": "markdown",
      "source": [
        "#### For Loops\n",
        "\n",
        "---\n",
        "\n",
        "For loops are loops which iterate through a certain command (or sequences of them) a set number of times. This is especially useful if you need to run a certain command a specific number of times. It is called by using the `for` command. The structure of a for loop is as follows:\n",
        "\n",
        "```\n",
        "for var in iterable:\n",
        "  do some task\n",
        "```\n",
        "\n",
        "where iterables are ordered sequences of elements (strings, lists, etc).\n",
        "\n",
        "What a for loop does is it goes through iterable objects (lists, strings, etc) and executes items on them. On the bottom example, it is iterating through a range object. A range function can have up to 3 inputs:\n",
        "\n",
        "`range(start, stop, step): start is the start place, stop is the stop place (non-inclusive), and step is the step size`"
      ],
      "metadata": {
        "id": "A12nLU00nQdn"
      }
    },
    {
      "cell_type": "code",
      "source": [
        "for i in range(10):\n",
        "  print(i)"
      ],
      "metadata": {
        "id": "kuu99fPOnP9e",
        "colab": {
          "base_uri": "https://localhost:8080/"
        },
        "outputId": "0a37fe5d-1316-46e4-c8cc-13a42e1cd253"
      },
      "execution_count": 64,
      "outputs": [
        {
          "output_type": "stream",
          "name": "stdout",
          "text": [
            "0\n",
            "1\n",
            "2\n",
            "3\n",
            "4\n",
            "5\n",
            "6\n",
            "7\n",
            "8\n",
            "9\n"
          ]
        }
      ]
    },
    {
      "cell_type": "code",
      "source": [
        "# example range function output\n",
        "\n",
        "list(range(1, 10, 2))"
      ],
      "metadata": {
        "colab": {
          "base_uri": "https://localhost:8080/"
        },
        "id": "XCvcS5QbUBfm",
        "outputId": "6b3d799b-55b4-416f-bac1-a9320514b82b"
      },
      "execution_count": 65,
      "outputs": [
        {
          "output_type": "execute_result",
          "data": {
            "text/plain": [
              "[1, 3, 5, 7, 9]"
            ]
          },
          "metadata": {},
          "execution_count": 65
        }
      ]
    },
    {
      "cell_type": "markdown",
      "source": [
        "For loops can also iterate through other iterables like lists and strings."
      ],
      "metadata": {
        "id": "1Fdyt0HyU7Lx"
      }
    },
    {
      "cell_type": "code",
      "source": [
        "my_list = [1, 'apple', 'string', 'cheese', 45]\n",
        "for i in my_list:\n",
        "  print(i)"
      ],
      "metadata": {
        "colab": {
          "base_uri": "https://localhost:8080/"
        },
        "id": "9wwsO1O2U6ip",
        "outputId": "764b3257-ca75-457b-84c5-4a8ec5f9847c"
      },
      "execution_count": 66,
      "outputs": [
        {
          "output_type": "stream",
          "name": "stdout",
          "text": [
            "1\n",
            "apple\n",
            "string\n",
            "cheese\n",
            "45\n"
          ]
        }
      ]
    },
    {
      "cell_type": "code",
      "source": [
        "my_string = 'apple'\n",
        "for i in my_string:\n",
        "  print(i)"
      ],
      "metadata": {
        "colab": {
          "base_uri": "https://localhost:8080/"
        },
        "id": "p85Bw4C2UgdT",
        "outputId": "963c1a60-e09b-4ba5-f891-5c280a062ed3"
      },
      "execution_count": 67,
      "outputs": [
        {
          "output_type": "stream",
          "name": "stdout",
          "text": [
            "a\n",
            "p\n",
            "p\n",
            "l\n",
            "e\n"
          ]
        }
      ]
    },
    {
      "cell_type": "markdown",
      "source": [
        "#### While Loops\n",
        "\n",
        "While statements are an effective way to repeat tasks when a condition holds.\n",
        "\n",
        "Similar to if, we start with while and the condition we want satisfied.\n",
        "\n",
        "Afterwards, we put in code we want to run while the condition holds.\n",
        "\n",
        "Lastly, we need to add any changes to the content of the condition at the end of the code within the while loop to prevent an infinite loop.\n",
        "\n",
        "In the example below, the i-=1 statement acts as the change to the \"content of the condition\", allowing for changes in output as well as exiting the loop once i hits 0.\n",
        "\n"
      ],
      "metadata": {
        "id": "EUpjZeXup6CM"
      }
    },
    {
      "cell_type": "code",
      "source": [
        "i = 10\n",
        "while i > 0:\n",
        "    print(i)\n",
        "    i-=1"
      ],
      "metadata": {
        "colab": {
          "base_uri": "https://localhost:8080/"
        },
        "id": "pauqaFf1p7sc",
        "outputId": "089b3ce7-23f8-45c9-a16b-7ee509294bd6"
      },
      "execution_count": 68,
      "outputs": [
        {
          "output_type": "stream",
          "name": "stdout",
          "text": [
            "10\n",
            "9\n",
            "8\n",
            "7\n",
            "6\n",
            "5\n",
            "4\n",
            "3\n",
            "2\n",
            "1\n"
          ]
        }
      ]
    },
    {
      "cell_type": "markdown",
      "source": [
        "## Exercise 4 (Basic HackerRank problem)\n",
        "\n",
        "Write a short program that prints each number from 1 to 100 on a new line.\n",
        "\n",
        "For each multiple of 3, print \"Fizz\" instead of the number.\n",
        "\n",
        "For each multiple of 5, print \"Buzz\" instead of the number.\n",
        "\n",
        "For numbers which are multiples of both 3 and 5, print \"FizzBuzz\" instead of the number.\n",
        "\n",
        "`Hint: Use a Loop and If/Elif/Else statements`"
      ],
      "metadata": {
        "id": "wFlPds24kWIj"
      }
    },
    {
      "cell_type": "code",
      "source": [
        "for i in range(1, 100):\n",
        "  if i % 15 == 0:\n",
        "    print ('FizzBuzz')\n",
        "  elif i % 3 == 0:\n",
        "    print('Fizz')\n",
        "  elif i % 5 == 0:\n",
        "    print('Buzz')\n",
        "  else:\n",
        "    print(i)"
      ],
      "metadata": {
        "id": "hLilM_xaMwcC",
        "colab": {
          "base_uri": "https://localhost:8080/"
        },
        "outputId": "81986b5d-cd4a-4da3-b39c-029c01b7f858"
      },
      "execution_count": 69,
      "outputs": [
        {
          "output_type": "stream",
          "name": "stdout",
          "text": [
            "1\n",
            "2\n",
            "Fizz\n",
            "4\n",
            "Buzz\n",
            "Fizz\n",
            "7\n",
            "8\n",
            "Fizz\n",
            "Buzz\n",
            "11\n",
            "Fizz\n",
            "13\n",
            "14\n",
            "FizzBuzz\n",
            "16\n",
            "17\n",
            "Fizz\n",
            "19\n",
            "Buzz\n",
            "Fizz\n",
            "22\n",
            "23\n",
            "Fizz\n",
            "Buzz\n",
            "26\n",
            "Fizz\n",
            "28\n",
            "29\n",
            "FizzBuzz\n",
            "31\n",
            "32\n",
            "Fizz\n",
            "34\n",
            "Buzz\n",
            "Fizz\n",
            "37\n",
            "38\n",
            "Fizz\n",
            "Buzz\n",
            "41\n",
            "Fizz\n",
            "43\n",
            "44\n",
            "FizzBuzz\n",
            "46\n",
            "47\n",
            "Fizz\n",
            "49\n",
            "Buzz\n",
            "Fizz\n",
            "52\n",
            "53\n",
            "Fizz\n",
            "Buzz\n",
            "56\n",
            "Fizz\n",
            "58\n",
            "59\n",
            "FizzBuzz\n",
            "61\n",
            "62\n",
            "Fizz\n",
            "64\n",
            "Buzz\n",
            "Fizz\n",
            "67\n",
            "68\n",
            "Fizz\n",
            "Buzz\n",
            "71\n",
            "Fizz\n",
            "73\n",
            "74\n",
            "FizzBuzz\n",
            "76\n",
            "77\n",
            "Fizz\n",
            "79\n",
            "Buzz\n",
            "Fizz\n",
            "82\n",
            "83\n",
            "Fizz\n",
            "Buzz\n",
            "86\n",
            "Fizz\n",
            "88\n",
            "89\n",
            "FizzBuzz\n",
            "91\n",
            "92\n",
            "Fizz\n",
            "94\n",
            "Buzz\n",
            "Fizz\n",
            "97\n",
            "98\n",
            "Fizz\n"
          ]
        }
      ]
    },
    {
      "cell_type": "markdown",
      "source": [
        "## Functions\n",
        "\n",
        "We've seem some built-in functions earlier, which apply some actions to some pieces of data. Functions are essentially blocks of code which can be called multiple times. This can be really useful if you need to call a block of code several times in a Python program, for example.\n",
        "\n",
        "The structure of a function is as follows:\n",
        "\n",
        "\n",
        "\n",
        "```\n",
        "def function_name(parameters):\n",
        "  commands\n",
        "  return something\n",
        "```\n",
        "\n",
        "`parameters` are the inputs to the function. You can `return` something, meaning once the function is called, it returns an output.\n",
        "\n"
      ],
      "metadata": {
        "id": "eMypCuysgo43"
      }
    },
    {
      "cell_type": "code",
      "source": [
        "# example function\n",
        "\n",
        "def add_two_numbers(a, b):\n",
        "  return a + b"
      ],
      "metadata": {
        "id": "fdrmS-8CVACZ"
      },
      "execution_count": 70,
      "outputs": []
    },
    {
      "cell_type": "code",
      "source": [
        "# calling the example function\n",
        "\n",
        "add_two_numbers(-2, 3)"
      ],
      "metadata": {
        "colab": {
          "base_uri": "https://localhost:8080/"
        },
        "id": "5W6RFK10Emnw",
        "outputId": "d7aacceb-cf42-487b-e84c-3b6f61dbad28"
      },
      "execution_count": 71,
      "outputs": [
        {
          "output_type": "execute_result",
          "data": {
            "text/plain": [
              "1"
            ]
          },
          "metadata": {},
          "execution_count": 71
        }
      ]
    },
    {
      "cell_type": "markdown",
      "source": [
        "You can do anything with functions. All of the concepts can be applied into functions."
      ],
      "metadata": {
        "id": "Xmk_a_ryhjKO"
      }
    },
    {
      "cell_type": "code",
      "source": [
        "def loop_function(num):\n",
        "  if num % 2 == 0: # if num is even\n",
        "    for i in range(num):\n",
        "      print(i)\n",
        "  else: # if num is odd\n",
        "    while num >= 0:\n",
        "      print(num)\n",
        "      num -= 1"
      ],
      "metadata": {
        "id": "t_L77xdMhiZh"
      },
      "execution_count": 72,
      "outputs": []
    },
    {
      "cell_type": "code",
      "source": [
        "loop_function(8)"
      ],
      "metadata": {
        "colab": {
          "base_uri": "https://localhost:8080/"
        },
        "id": "NdtLTv7fhyxV",
        "outputId": "7f24e51a-6145-401a-91dc-c910cdf9130d"
      },
      "execution_count": 73,
      "outputs": [
        {
          "output_type": "stream",
          "name": "stdout",
          "text": [
            "0\n",
            "1\n",
            "2\n",
            "3\n",
            "4\n",
            "5\n",
            "6\n",
            "7\n"
          ]
        }
      ]
    },
    {
      "cell_type": "code",
      "source": [
        "loop_function(13)"
      ],
      "metadata": {
        "colab": {
          "base_uri": "https://localhost:8080/"
        },
        "id": "h45HeXDZh1yH",
        "outputId": "462b5412-57c4-4d51-c257-4b4b31f4c303"
      },
      "execution_count": 74,
      "outputs": [
        {
          "output_type": "stream",
          "name": "stdout",
          "text": [
            "13\n",
            "12\n",
            "11\n",
            "10\n",
            "9\n",
            "8\n",
            "7\n",
            "6\n",
            "5\n",
            "4\n",
            "3\n",
            "2\n",
            "1\n",
            "0\n"
          ]
        }
      ]
    },
    {
      "cell_type": "markdown",
      "source": [
        "## Exercise 5\n",
        "\n",
        "Create a function that outputs `n!`. A factorial of `n` is n x (n-1) x (n-2) x ... x 2 x 1.\n",
        "\n",
        "For example, 5! is 5 x 4 x 3 x 2 x 1, which is 120"
      ],
      "metadata": {
        "id": "YtwmsbB7kr2S"
      }
    },
    {
      "cell_type": "code",
      "source": [
        "def factorial(num):\n",
        "  val = 1\n",
        "  for i in range(1, num+1):\n",
        "    val = val*i\n",
        "  return val"
      ],
      "metadata": {
        "id": "ChE6hin-kVd1"
      },
      "execution_count": 75,
      "outputs": []
    },
    {
      "cell_type": "markdown",
      "source": [
        "#### Test cases"
      ],
      "metadata": {
        "id": "PChyElYzx1bs"
      }
    },
    {
      "cell_type": "code",
      "source": [
        "factorial(5) == 120"
      ],
      "metadata": {
        "id": "V7ntLZc6x03i",
        "colab": {
          "base_uri": "https://localhost:8080/"
        },
        "outputId": "8a79d439-800b-45a9-ad70-ad78368062e7"
      },
      "execution_count": 76,
      "outputs": [
        {
          "output_type": "execute_result",
          "data": {
            "text/plain": [
              "True"
            ]
          },
          "metadata": {},
          "execution_count": 76
        }
      ]
    },
    {
      "cell_type": "code",
      "source": [
        "factorial(10) == 3628800"
      ],
      "metadata": {
        "id": "axzK2xncx4iv",
        "colab": {
          "base_uri": "https://localhost:8080/"
        },
        "outputId": "83d9da70-0c38-4dde-d401-75b249c92686"
      },
      "execution_count": 77,
      "outputs": [
        {
          "output_type": "execute_result",
          "data": {
            "text/plain": [
              "True"
            ]
          },
          "metadata": {},
          "execution_count": 77
        }
      ]
    },
    {
      "cell_type": "code",
      "source": [
        "factorial(15) == 1307674368000"
      ],
      "metadata": {
        "id": "1gzOFQ6Ax9f-",
        "colab": {
          "base_uri": "https://localhost:8080/"
        },
        "outputId": "d508fcf7-ec7b-413d-e12f-0d8f01b05cfc"
      },
      "execution_count": 78,
      "outputs": [
        {
          "output_type": "execute_result",
          "data": {
            "text/plain": [
              "True"
            ]
          },
          "metadata": {},
          "execution_count": 78
        }
      ]
    },
    {
      "cell_type": "code",
      "source": [],
      "metadata": {
        "id": "SJg2Goj47xKc"
      },
      "execution_count": null,
      "outputs": []
    }
  ]
}