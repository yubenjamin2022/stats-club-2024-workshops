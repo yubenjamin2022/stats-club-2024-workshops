{
  "cells": [
    {
      "cell_type": "markdown",
      "metadata": {
        "id": "WJ7lewMyh7iL"
      },
      "source": [
        "\n",
        "\n",
        "---\n",
        "\n",
        "\n",
        "# Basics of Machine Learning\n",
        "\n",
        "#### UCLA Statistics Club 2025\n",
        "\n",
        "Machine learning is the study of how to get machines to learn features from data which could then generalize to outside, unseen data.\n"
      ]
    },
    {
      "cell_type": "code",
      "execution_count": null,
      "metadata": {
        "id": "SJg2Goj47xKc"
      },
      "outputs": [],
      "source": [
        "# imports\n",
        "\n",
        "import sklearn\n",
        "from sklearn import datasets\n",
        "import torch"
      ]
    },
    {
      "cell_type": "code",
      "source": [
        "cal_housing = datasets.fetch_california_housing()"
      ],
      "metadata": {
        "id": "txv8Gq-CcGga"
      },
      "execution_count": null,
      "outputs": []
    },
    {
      "cell_type": "code",
      "source": [
        "import numpy as np\n",
        "\n",
        "min_vals = np.min(cal_housing.data, axis=0)\n",
        "max_vals = np.max(cal_housing.data, axis=0)\n",
        "\n",
        "normalized_data = (cal_housing.data - min_vals) / (max_vals - min_vals)"
      ],
      "metadata": {
        "id": "_Fb-O9iKh1Xx"
      },
      "execution_count": null,
      "outputs": []
    },
    {
      "cell_type": "markdown",
      "source": [
        "## Supervised learning\n",
        "\n",
        "---\n",
        "\n",
        "Supervised learning is a subset of machine learning which utilizes labeled data to train a model to learn certain qualities/features."
      ],
      "metadata": {
        "id": "j4dTR3p6hYFG"
      }
    },
    {
      "cell_type": "markdown",
      "source": [
        "We are splitting our data into train/test datasets to later test our results to prevent overfitting."
      ],
      "metadata": {
        "id": "-IcO_SEGiN9o"
      }
    },
    {
      "cell_type": "code",
      "source": [
        "from torch.utils.data import DataLoader, Dataset\n",
        "from sklearn.model_selection import train_test_split"
      ],
      "metadata": {
        "id": "_O5pmfy9iobq"
      },
      "execution_count": null,
      "outputs": []
    },
    {
      "cell_type": "code",
      "source": [
        "X_train, X_test, y_train, y_test = sklearn.model_selection.train_test_split(cal_housing.data, cal_housing.target, test_size = 0.10)\n",
        "\n",
        "train_dataloader = DataLoader(list(zip(X_train, y_train)), batch_size = 16)\n",
        "test_dataloader = DataLoader(list(zip(X_test, y_test)), batch_size = 1)"
      ],
      "metadata": {
        "id": "Um3o5-oqjFrc"
      },
      "execution_count": null,
      "outputs": []
    },
    {
      "cell_type": "code",
      "source": [
        "from torch import nn"
      ],
      "metadata": {
        "id": "y-L4ifbokptJ"
      },
      "execution_count": null,
      "outputs": []
    },
    {
      "cell_type": "markdown",
      "source": [
        "Here is a basic neural network, with 3 layers and a ReLU activation function."
      ],
      "metadata": {
        "id": "GrXUpSNqkzkB"
      }
    },
    {
      "cell_type": "code",
      "source": [
        "class NeuralNetwork(nn.Module):\n",
        "  def __init__(self):\n",
        "    super().__init__()\n",
        "    self.linear_stack = nn.Sequential(\n",
        "        nn.Linear(8, 16),\n",
        "        nn.ReLU(),\n",
        "        nn.Linear(16, 32),\n",
        "        nn.ReLU(),\n",
        "        nn.Linear(32, 64),\n",
        "        nn.ReLU(),\n",
        "        nn.Linear(64, 32),\n",
        "        nn.ReLU(),\n",
        "        nn.Linear(32, 16),\n",
        "        nn.ReLU(),\n",
        "        nn.Linear(16, 8),\n",
        "        nn.ReLU(),\n",
        "        nn.Linear(8, 1)\n",
        "      )\n",
        "\n",
        "  def forward(self, x):\n",
        "    return self.linear_stack(x)"
      ],
      "metadata": {
        "id": "6xuM8YzvkLss"
      },
      "execution_count": null,
      "outputs": []
    },
    {
      "cell_type": "markdown",
      "source": [
        "Here is a basic train-test loop for data trained over 5 epochs."
      ],
      "metadata": {
        "id": "QbJbQ4WrkuZy"
      }
    },
    {
      "cell_type": "code",
      "source": [
        "device = 'cuda' if torch.cuda.is_available() else 'cpu'\n",
        "\n",
        "# puts model on GPU to increase speed of training\n",
        "\n",
        "model = NeuralNetwork().to(device)"
      ],
      "metadata": {
        "id": "Etll38odk8t3"
      },
      "execution_count": null,
      "outputs": []
    },
    {
      "cell_type": "markdown",
      "source": [
        "We define a loss function for our model to optimize and an optimizer (an algorithm used to calculate where to adjust the weights)."
      ],
      "metadata": {
        "id": "fP1RFHEIlkgE"
      }
    },
    {
      "cell_type": "code",
      "source": [
        "criterion = nn.MSELoss().to(device)\n",
        "optimizer = torch.optim.Adam(model.parameters(), lr=1e-4)"
      ],
      "metadata": {
        "id": "3Je3KqzIlgmb"
      },
      "execution_count": null,
      "outputs": []
    },
    {
      "cell_type": "code",
      "source": [
        "num_epochs = 15\n",
        "\n",
        "for _ in range(num_epochs):\n",
        "    model.train()  # Set model to training mode\n",
        "    running_loss = 0\n",
        "\n",
        "    for data, output in train_dataloader:\n",
        "        optimizer.zero_grad()\n",
        "        data = data.type(torch.float32).to(device)\n",
        "        output = output.type(torch.float32).to(device).unsqueeze(1)\n",
        "\n",
        "        loss = criterion(model(data), output)\n",
        "        loss.backward()\n",
        "        optimizer.step()\n",
        "        running_loss += loss.item()\n",
        "\n",
        "    model.eval()  # Set model to evaluation mode\n",
        "    with torch.no_grad():\n",
        "        validation_loss = 0\n",
        "        for data, output in test_dataloader:\n",
        "            data = data.type(torch.float32).to(device)\n",
        "            output = output.type(torch.float32).to(device).unsqueeze(1)\n",
        "\n",
        "            loss = criterion(model(data), output)\n",
        "            validation_loss += loss.item()\n",
        "\n",
        "    avg_train_loss = running_loss / len(train_dataloader)\n",
        "    avg_val_loss = validation_loss / len(test_dataloader)\n",
        "\n",
        "    print(f\"Training Loss: {avg_train_loss:.4f}, Validation Loss: {avg_val_loss:.4f}\")\n"
      ],
      "metadata": {
        "colab": {
          "base_uri": "https://localhost:8080/"
        },
        "id": "S32EQKvoktVo",
        "outputId": "1b79d22c-a98b-4ddc-fe76-baabfa80f664"
      },
      "execution_count": null,
      "outputs": [
        {
          "output_type": "stream",
          "name": "stdout",
          "text": [
            "Training Loss: 1.9522, Validation Loss: 1.4010\n",
            "Training Loss: 1.3350, Validation Loss: 1.3736\n",
            "Training Loss: 1.3057, Validation Loss: 1.3412\n",
            "Training Loss: 1.2769, Validation Loss: 1.3057\n",
            "Training Loss: 1.2524, Validation Loss: 1.2698\n",
            "Training Loss: 1.2090, Validation Loss: 1.2158\n",
            "Training Loss: 1.1629, Validation Loss: 1.1460\n",
            "Training Loss: 1.1043, Validation Loss: 1.0571\n",
            "Training Loss: 1.0127, Validation Loss: 0.9416\n",
            "Training Loss: 0.9024, Validation Loss: 0.8149\n",
            "Training Loss: 0.7943, Validation Loss: 0.7171\n",
            "Training Loss: 0.7292, Validation Loss: 0.6700\n",
            "Training Loss: 0.6938, Validation Loss: 0.6472\n",
            "Training Loss: 0.6794, Validation Loss: 0.6391\n",
            "Training Loss: 0.6738, Validation Loss: 0.6264\n"
          ]
        }
      ]
    },
    {
      "cell_type": "code",
      "source": [
        "for i in range(10):\n",
        "  print(f'Predicted: {model(torch.tensor(X_test[i]).type(torch.float32).to(device)).cpu().detach().numpy()[0]:.4f}, Actual: {y_test[i]}')"
      ],
      "metadata": {
        "id": "NxH38asySmLC",
        "colab": {
          "base_uri": "https://localhost:8080/"
        },
        "outputId": "dda1829b-79e3-4674-9710-0d38c24819a2"
      },
      "execution_count": null,
      "outputs": [
        {
          "output_type": "stream",
          "name": "stdout",
          "text": [
            "Predicted: 2.7050, Actual: 2.519\n",
            "Predicted: 1.6158, Actual: 1.293\n",
            "Predicted: 2.2596, Actual: 2.952\n",
            "Predicted: 2.5447, Actual: 2.563\n",
            "Predicted: 3.4032, Actual: 1.601\n",
            "Predicted: 0.8885, Actual: 1.271\n",
            "Predicted: 2.8297, Actual: 2.33\n",
            "Predicted: 2.4767, Actual: 1.908\n",
            "Predicted: 1.2048, Actual: 1.225\n",
            "Predicted: 2.2307, Actual: 1.845\n"
          ]
        }
      ]
    },
    {
      "cell_type": "markdown",
      "metadata": {
        "id": "qL-VLkkLRXvX"
      },
      "source": [
        "## Unsupervised learning\n",
        "\n",
        "---\n",
        "\n",
        "As mentioned earlier, unsupervised learning is a machine learning technique which uses no labels to extract key information in the data."
      ]
    },
    {
      "cell_type": "code",
      "source": [
        "from sklearn.cluster import KMeans\n",
        "import matplotlib.pyplot as plt\n",
        "\n",
        "# X will be our \"input data to cluster\"\n",
        "X, y = datasets.make_blobs(n_samples=100, centers=5, n_features=2, random_state=42)\n",
        "\n",
        "\n",
        "plt.scatter(X[:, 0], X[:, 1]) # scatter plot of the x,y values\n"
      ],
      "metadata": {
        "colab": {
          "base_uri": "https://localhost:8080/",
          "height": 447
        },
        "id": "QyHQB_YWPRE1",
        "outputId": "096c3eb8-2d27-4ec6-966a-35c68dd1ba72"
      },
      "execution_count": null,
      "outputs": [
        {
          "output_type": "execute_result",
          "data": {
            "text/plain": [
              "<matplotlib.collections.PathCollection at 0x7d240006b9d0>"
            ]
          },
          "metadata": {},
          "execution_count": 23
        },
        {
          "output_type": "display_data",
          "data": {
            "text/plain": [
              "<Figure size 640x480 with 1 Axes>"
            ],
            "image/png": "[encoded data removed]"
          },
          "metadata": {}
        }
      ]
    },
    {
      "cell_type": "code",
      "source": [
        "k = 5 # this will be number of clusters\n",
        "\n",
        "# X = np.append(X, [[30, 30]], axis=0)\n",
        "\n",
        "kmeans = KMeans(n_clusters=k, random_state=0)\n",
        "kmeans.fit(X) # this runs the K means algorithm\n",
        "\n",
        "labels = kmeans.labels_ # to get different colors for different clusters\n",
        "centroids = kmeans.cluster_centers_ # centroids that define the cluster region\n",
        "\n",
        "\n",
        "plt.scatter(X[:, 0], X[:, 1], c=labels, cmap='viridis') # plot the data with Kmeans labels, viridis is a color scheme for mapping\n",
        "plt.scatter(centroids[:, 0], centroids[:, 1], marker='x', s=200, c='red') # plot centroids\n",
        "plt.show()"
      ],
      "metadata": {
        "colab": {
          "base_uri": "https://localhost:8080/",
          "height": 430
        },
        "id": "aXFiRJc6PXGh",
        "outputId": "b005c0c7-dce0-45af-d8ba-e60e352b471d"
      },
      "execution_count": null,
      "outputs": [
        {
          "output_type": "display_data",
          "data": {
            "text/plain": [
              "<Figure size 640x480 with 1 Axes>"
            ],
            "image/png": "[encoded data removed]"
          },
          "metadata": {}
        }
      ]
    },
    {
      "cell_type": "code",
      "source": [],
      "metadata": {
        "id": "wRpdgSqj6-iY"
      },
      "execution_count": null,
      "outputs": []
    }
  ],
  "metadata": {
    "colab": {
      "provenance": [],
      "gpuType": "T4"
    },
    "kernelspec": {
      "display_name": "Python 3",
      "name": "python3"
    },
    "language_info": {
      "name": "python"
    },
    "accelerator": "GPU"
  },
  "nbformat": 4,
  "nbformat_minor": 0
}